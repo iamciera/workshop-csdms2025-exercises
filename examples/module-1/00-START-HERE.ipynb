{
 "cells": [
  {
   "cell_type": "markdown",
   "id": "be74f559-7cc4-4af3-a2cf-bedea50734af",
   "metadata": {},
   "source": [
    "# Preliminaries - configure Git and Github access\n",
    "\n",
    "Before we do any \"real\" work, we'll need to do a one-time setup so Git knows who you are on this hub, and so you can also regularly connect from this hub to your Github account without having to type passwords all the time."
   ]
  },
  {
   "cell_type": "markdown",
   "id": "5e7cc622-78e0-4d1d-941b-27faf828fb09",
   "metadata": {},
   "source": [
    "## 1. Git Configuration\n",
    "\n",
    "The minimal amount of configuration for git to work without pestering you is to tell it who you are. \n",
    "\n",
    "1. **Open a terminal from the JupyterLab launcher** (click the `+` icon above)\n",
    "1. **Run these commands in the terminal, replacing placeholders with your desired name and the email address** (the one you use for Github):\n",
    "\n",
    "    ```bash\n",
    "    git config --global user.name \"YOUR NAME HERE\"\n",
    "    git config --global user.email \"YOUR EMAIL HERE\"\n",
    "    ```\n",
    "\n",
    "1. While we’re at it, we also **turn on the use of color**, which is very useful:\n",
    "\n",
    "    ```bash\n",
    "    git config --global color.ui \"auto\"\n",
    "    ```"
   ]
  },
  {
   "cell_type": "markdown",
   "id": "77d18108-8ffc-4392-8c28-8fa3bb9dff82",
   "metadata": {
    "jp-MarkdownHeadingCollapsed": true
   },
   "source": [
    "## 2. Activate GitHub Authentication\n",
    "\n",
    "Next, we configure git so that we safely manage our credentials without having to manually type our passwords for each and every operation.\n",
    "\n",
    "For convenient use on the hub, we're going to run ONE cell below each time. \n",
    "\n",
    "\n",
    "### 2a. Run the cell below (click it, then press `SHIFT-ENTER`) to activate GitHub access:"
   ]
  },
  {
   "cell_type": "code",
   "execution_count": null,
   "id": "e8b2d975-f426-4ad0-b162-becd766dc858",
   "metadata": {},
   "outputs": [],
   "source": [
    "import gh_scoped_creds\n",
    "%ghscopedcreds"
   ]
  },
  {
   "cell_type": "markdown",
   "id": "910e9582-614d-4b9a-90b3-3ce0470320ca",
   "metadata": {},
   "source": [
    "### 2b. Follow the instructions output by the previous cell!\n",
    "\n",
    "You will be directed to visit a URL and paste a code.\n",
    "\n",
    "Once you've done that and clicked through the prompts, **the cell above will output more instructions**!\n",
    "\n",
    "After the green \"Success!\" message, **another URL will be printed**. Visit that URL and click \"Configure\" to select which repositories to grant access to.\n",
    "\n",
    "**Make sure you grant access to the `MY-USERNAME/workshop-csdms2025-examples` repository**!"
   ]
  },
  {
   "cell_type": "markdown",
   "id": "e46f8a4a-681c-4e99-a4ea-29603c8704d6",
   "metadata": {},
   "source": [
    ":::{hint} Save this for later!\n",
    "This utility is available in a notebook called `GHAUTH.ipynb` in the `shared-public/fperez` folder:\n",
    "\n",
    "```\n",
    "shared-public/fperez/GHAUTH.ipynb\n",
    "```\n",
    "\n",
    "**Please copy that notebook to your home directory (right-click in the JupyterLab file browser) and star/favorite it (right-click again) to find it easily on your file browser**. You'll then be able to do this each time you need Github access with minimal fuss.\n",
    ":::"
   ]
  },
  {
   "cell_type": "markdown",
   "id": "d41b3803-1cf2-45f0-98e8-85db6a3c1ced",
   "metadata": {},
   "source": [
    ":::{note} Aside: using Git on your local computer\n",
    "For general users, Github offers in its help pages instructions on how to configure the credentials helper for [Mac OSX](https://help.github.com/articles/caching-your-github-password-in-git/#platform-mac), [Windows](https://help.github.com/articles/caching-your-github-password-in-git/#platform-mac) and [Linux](https://help.github.com/articles/caching-your-github-password-in-git/#platform-linux).\n",
    "\n",
    "The instructions you just completed are intended to make life easier on a JupyterHub without unsafely storing credentials on a shared system.\n",
    ":::"
   ]
  }
 ],
 "metadata": {
  "kernelspec": {
   "display_name": "Python 3 (ipykernel)",
   "language": "python",
   "name": "python3"
  },
  "language_info": {
   "codemirror_mode": {
    "name": "ipython",
    "version": 3
   },
   "file_extension": ".py",
   "mimetype": "text/x-python",
   "name": "python",
   "nbconvert_exporter": "python",
   "pygments_lexer": "ipython3",
   "version": "3.13.3"
  }
 },
 "nbformat": 4,
 "nbformat_minor": 5
}
