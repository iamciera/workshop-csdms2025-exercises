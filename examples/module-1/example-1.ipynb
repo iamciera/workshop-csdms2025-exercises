{
 "cells": [
  {
   "cell_type": "markdown",
   "id": "b4242e02-31c7-4e0c-8a20-5ee7a6ec84e7",
   "metadata": {},
   "source": [
    "# Module 1: Working in JupyterHub\n",
    "\n",
    "Let's look at some data."
   ]
  },
  {
   "cell_type": "code",
   "execution_count": null,
   "id": "a4a0428b-80cc-47d2-8566-4d84dffae767",
   "metadata": {},
   "outputs": [],
   "source": [
    "import geopandas"
   ]
  },
  {
   "cell_type": "markdown",
   "id": "40442405-fd44-4196-b48e-c615de803d92",
   "metadata": {},
   "source": [
    "## Where are we now?\n",
    "\n",
    "We've prepared a simple dataset in an open format, [GeoJSON](https://geojson.org/), which contains one point: The Sustainability, Energy, and Environment Community (SEEC) building where we are now.\n",
    "\n",
    "We'll look at the raw data in tabular form, and then plot it."
   ]
  },
  {
   "cell_type": "code",
   "execution_count": null,
   "id": "93cba239-bc48-4732-a33f-e4d327dbd29a",
   "metadata": {},
   "outputs": [],
   "source": [
    "gdf = geopandas.read_file(\"seec.geojson\")"
   ]
  },
  {
   "cell_type": "code",
   "execution_count": null,
   "id": "5130665e-d337-4224-8daf-d9f662127599",
   "metadata": {},
   "outputs": [],
   "source": [
    "gdf"
   ]
  },
  {
   "cell_type": "code",
   "execution_count": null,
   "id": "c5070576-4dd0-4dae-ad7c-b671ed344c06",
   "metadata": {},
   "outputs": [],
   "source": [
    "gdf.plot()"
   ]
  },
  {
   "cell_type": "markdown",
   "id": "cb763878-07d3-402e-a068-b1ea220abaae",
   "metadata": {},
   "source": [
    "## That's not a very useful plot, is it?\n",
    "\n",
    ":) No! We'll come back to this."
   ]
  },
  {
   "cell_type": "markdown",
   "id": "d2a80e73-155b-47fb-a144-1dffe26ea848",
   "metadata": {},
   "source": [
    "## Let's add another data point.\n",
    "\n",
    "First, we create a new GeoDataFrame, then we \"concatenate\" them together.\n",
    "\n",
    "I got the latitude and Longitude by right-clicking in Google maps."
   ]
  },
  {
   "cell_type": "code",
   "execution_count": null,
   "id": "70550fed-2a8f-4543-9e07-f1e54ee388a6",
   "metadata": {},
   "outputs": [],
   "source": [
    "from shapely import Point\n",
    "\n",
    "nsidc_gdf = geopandas.GeoDataFrame(\n",
    "    {\n",
    "        \"Address\": [\"National Snow and Ice Data Center CIRES, 449 UCB University of Colorado Boulder\"],\n",
    "        \"Name\": [\"National Snow and Ice Data Center (NSIDC)\"],\n",
    "        \"geometry\": [Point(-105.25271574468819, 40.01262175838934)],  # Longitude first!\n",
    "    },\n",
    "    crs=\"EPSG:4326\",\n",
    ")\n",
    "\n",
    "nsidc_gdf.plot()"
   ]
  },
  {
   "cell_type": "markdown",
   "id": "51217f13-d09c-4c90-816b-8272b6bf3fc6",
   "metadata": {},
   "source": [
    "### Let's combine the two points into one data file."
   ]
  },
  {
   "cell_type": "code",
   "execution_count": null,
   "id": "1b40b40c-91b6-4d25-9060-a102b9c17df4",
   "metadata": {},
   "outputs": [],
   "source": [
    "import pandas\n",
    "\n",
    "# Instead of \"mutating\" an existing dataframe, we're creating a new one:\n",
    "combined_gdf = geopandas.GeoDataFrame(pandas.concat([gdf, nsidc_gdf]))\n",
    "combined_gdf.plot()"
   ]
  },
  {
   "cell_type": "markdown",
   "id": "501f4b39-62aa-4695-bfad-b63e49acdac4",
   "metadata": {},
   "source": [
    "## That's not a very useful plot, is it?\n",
    "\n",
    "Well, we can see that these points are relatively near each-other!\n",
    "\n",
    "Just kidding, we need more. :)\n",
    "\n",
    "We could write a bunch of additional code to visualize it effectively, but there are easier ways. We'll look at this in Module 2."
   ]
  },
  {
   "cell_type": "markdown",
   "id": "d15857dd-b9bb-454a-b08e-227b950cf775",
   "metadata": {},
   "source": [
    "## Save the results"
   ]
  },
  {
   "cell_type": "code",
   "execution_count": null,
   "id": "d4c6207a-32cd-49ed-810c-a5b4fb20916e",
   "metadata": {},
   "outputs": [],
   "source": [
    "combined_gdf.to_file(\"seec_and_nsidc.geojson\")"
   ]
  },
  {
   "cell_type": "markdown",
   "id": "7f87fba2-61d4-4b08-88a8-91d191aa311e",
   "metadata": {},
   "source": [
    "## Challenge: Create some data of our own\n",
    "\n",
    "Fill in the blanks in the cells below!\n",
    "\n",
    "Perhaps add a data point that is meaningful to you: Your favorite coffee shop? The shelter where you adopted your pet? The town where you grew up?\n",
    "\n",
    "Right click on a location in [Google Maps](https://www.google.com/maps) to get the latitude and longitude."
   ]
  },
  {
   "cell_type": "code",
   "execution_count": null,
   "id": "c3f63685-536e-4dc4-83de-74ee42faf7af",
   "metadata": {},
   "outputs": [],
   "source": [
    "my_gdf = # ... populate your data here!"
   ]
  },
  {
   "cell_type": "code",
   "execution_count": null,
   "id": "429b40c5-6a0f-4711-9302-b7a415de919a",
   "metadata": {},
   "outputs": [],
   "source": [
    "final_gdf = geopandas.GeoDataFrame(pandas.concat([combined_gdf, my_gdf]))\n",
    "final_gdf.to_file(\"final.geojson\")"
   ]
  },
  {
   "cell_type": "markdown",
   "id": "0effeba0-1bf9-4cf1-8294-753db36e7e51",
   "metadata": {},
   "source": [
    "## Return to the workshop website instructions\n",
    "\n",
    "Great job completing this notebook! Visit the workshop website by clicking the link below and continue following the instructions where you left off:\n",
    "\n",
    "<https://csdms2025.workshops.geojupyter.org/modules/working-in-jupyterhub/exercise>"
   ]
  }
 ],
 "metadata": {
  "kernelspec": {
   "display_name": "Python 3 (ipykernel)",
   "language": "python",
   "name": "python3"
  },
  "language_info": {
   "codemirror_mode": {
    "name": "ipython",
    "version": 3
   },
   "file_extension": ".py",
   "mimetype": "text/x-python",
   "name": "python",
   "nbconvert_exporter": "python",
   "pygments_lexer": "ipython3",
   "version": "3.10.16"
  }
 },
 "nbformat": 4,
 "nbformat_minor": 5
}
