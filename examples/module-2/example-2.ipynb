{
 "cells": [
  {
   "cell_type": "markdown",
   "id": "99255da7-98d7-4053-a975-8a5cc61a0c28",
   "metadata": {},
   "source": [
    "# Module 2: New Geospatial Tools\n",
    "\n",
    "Let's look at some tools that can help us work with geospatial data."
   ]
  },
  {
   "cell_type": "markdown",
   "id": "5a9ffa3a-8467-4e3c-9c57-2743234ed93d",
   "metadata": {},
   "source": [
    "## [leafmap](https://leafmap.org/)\n",
    "\n",
    "[leafmap](https://leafmap.org/) has been around for a while.\n",
    "Developed by the prolific [Qiusheng Wu](https://wetlands.io/), it's a mapping tool aimed at researchers, not software engineers.\n",
    "It does cool things like provide you a basemap by default.\n",
    "\n",
    "[Qiusheng's YouTube channel](https://youtube.com/@giswqs) is a goldmine of valuable tutorials!"
   ]
  },
  {
   "cell_type": "code",
   "execution_count": null,
   "id": "839e2627-ba43-452c-becf-42dc340f7111",
   "metadata": {},
   "outputs": [],
   "source": [
    "import geopandas\n",
    "import leafmap\n",
    "\n",
    "gdf = geopandas.read_file(\"seec_and_nsidc.geojson\")\n",
    "\n",
    "m = leafmap.Map()\n",
    "m.add_gdf(gdf)\n",
    "m"
   ]
  },
  {
   "cell_type": "markdown",
   "id": "cabd29fd-4b05-404b-a1c6-d9dd359c2598",
   "metadata": {},
   "source": [
    "## [JupyterGIS](https://jupytergis.readthedocs.io/)\n",
    "\n",
    "[JupyterGIS](https://jupytergis.readthedocs.io/) is brand new.\n",
    "Inspired by leafmap, QGIS, and more, it's aimed at being a browser-first collaborative GIS environment.\n",
    "\n",
    "It introduces a convenience feature to address a point of friction we identified in GeoJupyter interviews ([see our blog post](https://geojupyter.org/blog/20250410-community-insight-qgis-bounce/) on this)."
   ]
  },
  {
   "cell_type": "markdown",
   "id": "58f08f6e-25ad-4d7f-a009-ee5c2272d642",
   "metadata": {},
   "source": [
    "### JupyterGIS explorer\n",
    "\n",
    "The `explore()` function instantly opens an ephemeral JupyterGIS environment:"
   ]
  },
  {
   "cell_type": "code",
   "execution_count": null,
   "id": "cda82d62-5e84-48b3-8cec-d7795811fa36",
   "metadata": {},
   "outputs": [],
   "source": [
    "from jupytergis import explore\n",
    "\n",
    "explore(gdf)"
   ]
  },
  {
   "cell_type": "markdown",
   "id": "3a19593b-9112-4dfc-8015-0fb4ee210fb6",
   "metadata": {},
   "source": [
    "### JupyterGIS project files\n",
    "\n",
    "JupyterGIS introduces a new file format for projects.\n",
    "\n",
    "We've prepared a JupyterGIS project, i.e. a `.jGIS` file, with a basemap:"
   ]
  },
  {
   "cell_type": "code",
   "execution_count": null,
   "id": "6005b485-0555-4700-a30e-73fe2e083946",
   "metadata": {
    "scrolled": true
   },
   "outputs": [],
   "source": [
    "from jupytergis import GISDocument\n",
    "\n",
    "doc = GISDocument(\"example.jGIS\")\n",
    "doc"
   ]
  },
  {
   "cell_type": "markdown",
   "id": "eeac2318-9a05-4f6e-a235-f2230e46177a",
   "metadata": {},
   "source": [
    "Let's add our example data:"
   ]
  },
  {
   "cell_type": "code",
   "execution_count": null,
   "id": "f5b85691-5c13-4149-870a-57b2133ba86d",
   "metadata": {},
   "outputs": [],
   "source": [
    "doc.add_geojson_layer(\"seec_and_nsidc.geojson\", name=\"SEEC and NSIDC\")"
   ]
  },
  {
   "cell_type": "markdown",
   "id": "0c2a1a42-b21f-447b-be26-9c61a3dd3bc6",
   "metadata": {},
   "source": [
    "## The map has been updated!\n",
    "\n",
    "But you have to scroll up to see the change in the widget.\n",
    "Let's open that map in a new panel view instead of as an embedded widget.\n",
    "\n",
    "In the blank space to the left of the map, right-click, then select \"create new view for cell output\".\n",
    "We'll keep the map open in a panel from now on."
   ]
  },
  {
   "cell_type": "markdown",
   "id": "4851bdac-8e48-45d0-9c36-f14271c85792",
   "metadata": {},
   "source": [
    "## The layers panel\n",
    "\n",
    "Let's view the layers currently on the map.\n",
    "\n",
    "On the far left panel, click the globe icon.\n",
    "\n",
    "Then expand the \"Layers\" view within the new panel.\n",
    "\n",
    "Right click on \"SEEC and NSIDC\" and select \"Zoom to Layer\".\n",
    "You should see your data points on the furthest edges of the map, but the basemap has likely become unusable.\n",
    "Zoom out a little bit by scrolling."
   ]
  },
  {
   "cell_type": "markdown",
   "id": "c24aa6b3-b9f0-4c25-a35e-6cf6b50e0ca5",
   "metadata": {},
   "source": [
    "## Challenge\n",
    "\n",
    "### Add the other dataset you created in the previous module\n",
    "\n",
    "You created a dataset with a location that's meaningful to you in the previous module. Load that dataset in the cell below, and check that the map updated!\n",
    "\n",
    "Don't forget to give your new layer a name. Also, consider that you may need to specify a relative path, e.g. `../module-1/final.geojson`."
   ]
  },
  {
   "cell_type": "code",
   "execution_count": null,
   "id": "aedcadb1-ce53-4222-a405-76c7de10e2dd",
   "metadata": {},
   "outputs": [],
   "source": [
    "# Add your GeoJSON layer in this cell."
   ]
  },
  {
   "cell_type": "markdown",
   "id": "b5c0736c-0b6c-4930-9bdf-0b256028b400",
   "metadata": {
    "jp-MarkdownHeadingCollapsed": true
   },
   "source": [
    "### Identify points\n",
    "\n",
    "In the toolbar at the top of the map, select the \"i\" icon to toggle on identify mode.\n",
    "\n",
    "Select the layer in the layers panel you want to identify features from.\n",
    "Click a point to see its attributes.\n",
    "They'll be visible in the \"identify\" section of the right panel.\n",
    "\n",
    "If the right panel isn't open, click the globe icon in the far right of JupyterLab.\n",
    "If the \"identify\" section isn't visible, you may need to expand it (the triangle to the left of the word \"identify\" should be pointing **down**).\n",
    "If it's still not visible, you may need to shrink the other open panels by clicking and dragging at the edge, or by collapsing it entirely."
   ]
  },
  {
   "cell_type": "markdown",
   "id": "3365876f-d5cb-4c74-924e-6c5df91ee324",
   "metadata": {},
   "source": [
    "### Let's play with other data sources.\n",
    "\n",
    "The JupyterGIS Python API doesn't yet support adding remote GeoJSON layers, so we'll use the JupyterGIS GUI for this.\n",
    "\n",
    "In the map panel, click the ➕ icon in the toolbar at the top of the map.\n",
    "Select \"Add Vector Layer\", then \"New GeoJSON Layer\".\n",
    "In the dialog's \"Path\" field, select \"Browse Server Files\".\n",
    "Navigate to the `workshop-csdms2025-exercises/examples/module-2` directory, then select `us_cities.geojson`.\n",
    "\n",
    "Click the \"Select\" button, then click \"OK\".\n",
    "\n",
    "You may notice that the added layer is titled \"Custom GeoJSON Layer\". Right-click the layer and select \"Rename Layer\".\n",
    "Title it \"US Cities\"."
   ]
  },
  {
   "cell_type": "markdown",
   "id": "ac44a71f-0f4a-466e-9462-091aaf24e82e",
   "metadata": {},
   "source": [
    "### Add symbology\n",
    "\n",
    "**⚠️ There's a bug here, watch out! ⚠️**\n",
    "\n",
    "Don't forget, **JupyterGIS is in early stages. It will get much better!**\n",
    "\n",
    "#### Work around the bug\n",
    "\n",
    "Before we can apply symbology, we need to set the vector type to \"circle\" in the right panel.\n",
    "Under \"Objects properties\", select \"Circle\" in the Type dropdown, then click OK.\n",
    "You may need to scroll down, resize, or collapse sections of the right sidebar to see the OK button.\n",
    "\n",
    "#### Now, we can set symbology!\n",
    "\n",
    "Right click on the \"US Cities\" layer in the left panel.\n",
    "Select \"Edit symbology\".\n",
    "Select \"Render type: Graduated\", \"Value: ELEV_IN_FT\", \"Method: Color\".\n",
    "Select your favorite colormap (**please, don't select \"Rainbow\" - it is not an effective colormap**).\n",
    "Click \"Classify\", then click \"OK\".\n",
    "\n",
    "What's the highest-elevation city you can see?\n",
    "What would you do differently to make it easier to find?\n",
    "Do you see any flaws in this dataset when you use \"Identify\" on the points?"
   ]
  },
  {
   "cell_type": "markdown",
   "id": "b6681f01-f248-48d9-8cdf-c6ef40f3b965",
   "metadata": {},
   "source": [
    "## Return to the workshop website instructions\n",
    "\n",
    "Great job completing this notebook! Visit the workshop website by clicking the link below and continue following the instructions where you left off:\n",
    "\n",
    "<https://csdms2025.workshops.geojupyter.org/modules/new-geospatial-tools/exercise>"
   ]
  }
 ],
 "metadata": {
  "kernelspec": {
   "display_name": "Python 3 (ipykernel)",
   "language": "python",
   "name": "python3"
  },
  "language_info": {
   "codemirror_mode": {
    "name": "ipython",
    "version": 3
   },
   "file_extension": ".py",
   "mimetype": "text/x-python",
   "name": "python",
   "nbconvert_exporter": "python",
   "pygments_lexer": "ipython3",
   "version": "3.10.16"
  }
 },
 "nbformat": 4,
 "nbformat_minor": 5
}
